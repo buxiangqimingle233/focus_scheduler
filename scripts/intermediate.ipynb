{
 "cells": [
  {
   "cell_type": "code",
   "execution_count": 5,
   "metadata": {},
   "outputs": [],
   "source": [
    "import numpy as np\n",
    "import pandas as pd\n",
    "import seaborn as sns\n",
    "from math import log2\n",
    "import os\n",
    "import matplotlib.pyplot as plt\n",
    "\n",
    "# set figure size and resolution\n",
    "plt.rcParams['figure.figsize'] = (10, 6)\n",
    "plt.rcParams['image.interpolation'] = 1200\n",
    "\n",
    "# set fonts\n",
    "plt.rcParams['axes.unicode_minus']= False\n",
    "\n",
    "# set lines & line markers\n",
    "plt.rcParams[\"lines.linewidth\"] = 2.5\n",
    "plt.rcParams[\"lines.markersize\"] = 10\n",
    "plt.rcParams[\"lines.markerfacecolor\"] = \"000000\"\n",
    "plt.rcParams[\"lines.markeredgecolor\"] = \"ffffff\"\n",
    "plt.rcParams[\"lines.markeredgewidth\"] = 10\n",
    "\n",
    "# set legend\n",
    "plt.rcParams[\"legend.facecolor\"] = \"ffffff\"\n",
    "plt.rcParams[\"legend.title_fontsize\"] = 15\n",
    "plt.rcParams[\"legend.fontsize\"] = 15\n",
    "\n",
    "# set axes\n",
    "plt.rcParams[\"axes.labelsize\"] = 17\n",
    "plt.rcParams[\"xtick.labelsize\"] = 15\n",
    "plt.rcParams[\"ytick.labelsize\"] = 15\n",
    "\n",
    "# set sub figures\n",
    "plt.rcParams[\"axes.titlesize\"] = 20 \n",
    "\n",
    "# set palette and style\n",
    "sns.set_palette(\"Dark2\")\n",
    "# sns.set_style(\"whitegrid\")\n",
    "sns.set_style(\"darkgrid\")\n",
    "\n",
    "pd.set_option('mode.chained_assignment', None)"
   ]
  },
  {
   "cell_type": "code",
   "execution_count": 10,
   "metadata": {},
   "outputs": [
    {
     "name": "stdout",
     "output_type": "stream",
     "text": [
      "dict_keys(['channel_loads_vgg16_b4w1024_8x8.npy', 'core_busy_ratio_bert-large_b1w1024_8x8.npy', 'channel_loads_bert-large_b1w1024_8x8.npy', 'msg_size_dist_vgg16_b4w1024_8x8.npy', 'msg_size_dist_bert-large_b1w1024_8x8.npy'])\n"
     ]
    }
   ],
   "source": [
    "op_graph_dir = \"../buffer/op_graph\"\n",
    "bank = {}\n",
    "for filename in os.listdir(op_graph_dir):\n",
    "    if filename.endswith(\"npy\"):\n",
    "        bank[filename] = np.load(os.path.join(op_graph_dir, filename))\n",
    "print(bank.keys())"
   ]
  },
  {
   "cell_type": "code",
   "execution_count": null,
   "metadata": {},
   "outputs": [],
   "source": []
  }
 ],
 "metadata": {
  "interpreter": {
   "hash": "8c0becb933fa383007aaf2108a94fe203047c99382006b84ff96d5df74f4e91e"
  },
  "kernelspec": {
   "display_name": "Python 3.6.9 64-bit ('3.6.9': pyenv)",
   "language": "python",
   "name": "python3"
  },
  "language_info": {
   "codemirror_mode": {
    "name": "ipython",
    "version": 3
   },
   "file_extension": ".py",
   "mimetype": "text/x-python",
   "name": "python",
   "nbconvert_exporter": "python",
   "pygments_lexer": "ipython3",
   "version": "3.6.9"
  },
  "orig_nbformat": 4
 },
 "nbformat": 4,
 "nbformat_minor": 2
}
