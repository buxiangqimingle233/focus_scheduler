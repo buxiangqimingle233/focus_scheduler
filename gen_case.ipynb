{
 "cells": [
  {
   "cell_type": "code",
   "execution_count": 2,
   "metadata": {},
   "outputs": [],
   "source": [
    "import os\n",
    "import sys\n",
    "import yaml\n",
    "\n",
    "root = os.path.abspath('')\n",
    "\n",
    "runfile_dir = os.path.join(root, \"benchmark\")\n",
    "model_dir = os.path.join(root, \"database\")\n",
    "\n",
    "\n",
    "def test(model):\n",
    "    model_bank = os.listdir(model_dir)\n",
    "    if model not in model_bank:\n",
    "        raise Exception(\"Model: {} not exist!!\".format(model))"
   ]
  },
  {
   "cell_type": "code",
   "execution_count": 11,
   "metadata": {},
   "outputs": [],
   "source": [
    "# multi-model-1\n",
    "\n",
    "task = \"multi-model-1\"\n",
    "# name: (segment_length, allocated cores, bias)\n",
    "models = {\n",
    "    \"wide_resnet50_2\": (16, 80, 0), \n",
    "    \"resnext50_32x4d\": (16, 64, 0),\n",
    "    \"resnet50\": (16, 64, 0),\n",
    "    \"vgg16\": (4, 32, 0),\n",
    "}\n",
    "\n",
    "for model in models:\n",
    "    test(model)\n",
    "\n",
    "models_dump = {}\n",
    "for name, (length, core, bias) in models.items():\n",
    "    layers = [\"{}_layer{}\".format(name, i + bias + 1) for i in range(length)]\n",
    "    core_per_layer = core // length\n",
    "    models_dump[name] = [{layer: core_per_layer} for layer in layers]\n",
    "\n",
    "runfile = os.path.join(runfile_dir, \"{}.yaml\".format(task))\n",
    "yaml.dump(models_dump, open(runfile, \"w\"))"
   ]
  },
  {
   "cell_type": "code",
   "execution_count": 9,
   "metadata": {},
   "outputs": [],
   "source": [
    "# multi-model-2\n",
    "\n",
    "task = \"multi-model-2\"\n",
    "# name: (segment_length, allocated cores, bias)\n",
    "models = {\n",
    "    \"ssd_r34\": (16, 48, 0), \n",
    "    \"resnext50_32x4d\": (16, 48, 0),\n",
    "    \"mnasnet\": (16, 48, 0),\n",
    "    \"bert-large\": (8, 16, 0),\n",
    "}\n",
    "\n",
    "for model in models:\n",
    "    test(model)\n",
    "\n",
    "models_dump = {}\n",
    "for name, (length, core, bias) in models.items():\n",
    "    layers = [\"{}_layer{}\".format(name, i + bias + 1) for i in range(length)]\n",
    "    core_per_layer = core // length\n",
    "    models_dump[name] = [{layer: core_per_layer} for layer in layers]\n",
    "\n",
    "runfile = os.path.join(runfile_dir, \"{}.yaml\".format(task))\n",
    "yaml.dump(models_dump, open(runfile, \"w\"))"
   ]
  },
  {
   "cell_type": "code",
   "execution_count": 10,
   "metadata": {},
   "outputs": [],
   "source": [
    "# multi-model-3\n",
    "\n",
    "task = \"multi-model-3\"\n",
    "# name: (segment_length, allocated cores, bias)\n",
    "models = {\n",
    "    \"bert-large\": (8, 16, 0), \n",
    "    \"unet\": (12, 60, 0),\n",
    "    \"inception\": (24, 96, 0),\n",
    "    \"wide_resnet50_2\": (24, 48, 0),\n",
    "}\n",
    "\n",
    "for model in models:\n",
    "    test(model)\n",
    "\n",
    "models_dump = {}\n",
    "for name, (length, core, bias) in models.items():\n",
    "    layers = [\"{}_layer{}\".format(name, i + bias + 1) for i in range(length)]\n",
    "    core_per_layer = core // length\n",
    "    models_dump[name] = [{layer: core_per_layer} for layer in layers]\n",
    "\n",
    "runfile = os.path.join(runfile_dir, \"{}.yaml\".format(task))\n",
    "yaml.dump(models_dump, open(runfile, \"w\"))"
   ]
  },
  {
   "cell_type": "code",
   "execution_count": 12,
   "metadata": {},
   "outputs": [],
   "source": [
    "# pipeline\n",
    "\n",
    "task = \"mobilenet_v3_large_8\"\n",
    "# name: (segment_length, allocated cores, bias)\n",
    "models = {\n",
    "    \"mobilenet_v3_large\": (64, 4, 0),\n",
    "}\n",
    "\n",
    "for model in models:\n",
    "    test(model)\n",
    "\n",
    "models_dump = {}\n",
    "for name, (length, core, bias) in models.items():\n",
    "    layers = [\"{}_layer{}\".format(name, i + bias + 1) for i in range(length)]\n",
    "    models_dump[name] = [{layer: core} for layer in layers]\n",
    "\n",
    "runfile = os.path.join(runfile_dir, \"{}.yaml\".format(task))\n",
    "yaml.dump(models_dump, open(runfile, \"w\"))"
   ]
  },
  {
   "cell_type": "code",
   "execution_count": 10,
   "metadata": {},
   "outputs": [
    {
     "name": "stdout",
     "output_type": "stream",
     "text": [
      "1024 1024\n",
      "1024 512\n",
      "1024 256\n",
      "1024 128\n",
      "1024 64\n",
      "1024 32\n",
      "1024 16\n",
      "2048 8\n",
      "4096 4\n",
      "8192 2\n",
      "16384 1\n",
      "4292608\n"
     ]
    }
   ],
   "source": [
    "link_width = 1024\n",
    "total_width = 0\n",
    "for i in range(10, -1, -1):\n",
    "    if i <= 3:\n",
    "        link_width *= 2\n",
    "    link_num = 2 ** i\n",
    "    print(link_width, link_num)\n",
    "    total_width += link_num * link_width\n",
    "print(total_width * 2)"
   ]
  },
  {
   "cell_type": "code",
   "execution_count": 12,
   "metadata": {},
   "outputs": [
    {
     "data": {
      "text/plain": [
       "5242880"
      ]
     },
     "execution_count": 12,
     "metadata": {},
     "output_type": "execute_result"
    }
   ],
   "source": [
    "64 * 4 * (16 + 4) * 1024"
   ]
  },
  {
   "cell_type": "code",
   "execution_count": 14,
   "metadata": {},
   "outputs": [
    {
     "data": {
      "text/plain": [
       "4321280"
      ]
     },
     "execution_count": 14,
     "metadata": {},
     "output_type": "execute_result"
    }
   ],
   "source": [
    "(1024 * 900 * 4 + 1024 * 124 * 5)"
   ]
  },
  {
   "cell_type": "code",
   "execution_count": 15,
   "metadata": {},
   "outputs": [
    {
     "name": "stdout",
     "output_type": "stream",
     "text": [
      "3.3253394787073356\n"
     ]
    }
   ],
   "source": [
    "import numpy as np\n",
    "# deviation\n",
    "m3 = np.asarray_chkfinite([3.3765424990352852, 3.3765424990352852, 3.3765424990352852, 3.3694523970205115, 3.27664257942543, 3.362945174229203, 3.3540053806203267, 3.207436599821169, 3.27664257942543, 3.27664257942543])\n",
    "print(np.average(m3))\n"
   ]
  },
  {
   "cell_type": "code",
   "execution_count": 16,
   "metadata": {},
   "outputs": [
    {
     "name": "stdout",
     "output_type": "stream",
     "text": [
      "2.9176905778635005\n"
     ]
    }
   ],
   "source": [
    "m2 = np.asarray_chkfinite([[2.9649250984947133, 2.9801673393970667, 2.970658187648528, 2.830414635503924, 2.851270997513184, 2.9213151239155093, 2.808619724034108, 2.8990302299271384, 2.971863502758941, 2.978640939441888]])\n",
    "print(np.average(m2))"
   ]
  },
  {
   "cell_type": "code",
   "execution_count": 17,
   "metadata": {},
   "outputs": [
    {
     "name": "stdout",
     "output_type": "stream",
     "text": [
      "2.629649602239355\n"
     ]
    }
   ],
   "source": [
    "m1 = np.asarray_chkfinite([[2.5533847260094302, 2.9495689892359853, 2.7959859250062853, 2.5589211588961382, 2.5585218921384345, 2.527884549493809, 2.4770218162672917, 2.7577639143116013, 2.5589211588961382, 2.5585218921384345]])\n",
    "print(np.average(m1))"
   ]
  },
  {
   "cell_type": "code",
   "execution_count": 18,
   "metadata": {},
   "outputs": [
    {
     "name": "stdout",
     "output_type": "stream",
     "text": [
      "2.0320147065010805\n"
     ]
    }
   ],
   "source": [
    "mobile = np.asarray_chkfinite([ [2.0569345057919537, 2.025276011769226, 2.0396243093650264, 2.0096695203479413, 2.063963481800947, 2.029970099074111, 2.048650222829596, 1.9981488078783178, 2.013025430752889, 2.0348846754007917]])\n",
    "print(np.average(mobile))"
   ]
  },
  {
   "cell_type": "code",
   "execution_count": null,
   "metadata": {},
   "outputs": [],
   "source": []
  }
 ],
 "metadata": {
  "interpreter": {
   "hash": "8c0becb933fa383007aaf2108a94fe203047c99382006b84ff96d5df74f4e91e"
  },
  "kernelspec": {
   "display_name": "Python 3.6.9 64-bit ('3.6.9': pyenv)",
   "language": "python",
   "name": "python3"
  },
  "language_info": {
   "codemirror_mode": {
    "name": "ipython",
    "version": 3
   },
   "file_extension": ".py",
   "mimetype": "text/x-python",
   "name": "python",
   "nbconvert_exporter": "python",
   "pygments_lexer": "ipython3",
   "version": "3.6.9"
  },
  "orig_nbformat": 4
 },
 "nbformat": 4,
 "nbformat_minor": 2
}
