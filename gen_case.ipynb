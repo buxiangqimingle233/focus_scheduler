{
 "cells": [
  {
   "cell_type": "code",
   "execution_count": 2,
   "metadata": {},
   "outputs": [],
   "source": [
    "import os\n",
    "import sys\n",
    "import yaml\n",
    "\n",
    "root = os.path.abspath('')\n",
    "\n",
    "runfile_dir = os.path.join(root, \"benchmark\")\n",
    "model_dir = os.path.join(root, \"database\")\n",
    "\n",
    "\n",
    "def test(model):\n",
    "    model_bank = os.listdir(model_dir)\n",
    "    if model not in model_bank:\n",
    "        raise Exception(\"Model: {} not exist!!\".format(model))"
   ]
  },
  {
   "cell_type": "code",
   "execution_count": 11,
   "metadata": {},
   "outputs": [],
   "source": [
    "# multi-model-1\n",
    "\n",
    "task = \"multi-model-1\"\n",
    "# name: (segment_length, allocated cores, bias)\n",
    "models = {\n",
    "    \"wide_resnet50_2\": (16, 80, 0), \n",
    "    \"resnext50_32x4d\": (16, 64, 0),\n",
    "    \"resnet50\": (16, 64, 0),\n",
    "    \"vgg16\": (4, 32, 0),\n",
    "}\n",
    "\n",
    "for model in models:\n",
    "    test(model)\n",
    "\n",
    "models_dump = {}\n",
    "for name, (length, core, bias) in models.items():\n",
    "    layers = [\"{}_layer{}\".format(name, i + bias + 1) for i in range(length)]\n",
    "    core_per_layer = core // length\n",
    "    models_dump[name] = [{layer: core_per_layer} for layer in layers]\n",
    "\n",
    "runfile = os.path.join(runfile_dir, \"{}.yaml\".format(task))\n",
    "yaml.dump(models_dump, open(runfile, \"w\"))"
   ]
  },
  {
   "cell_type": "code",
   "execution_count": 9,
   "metadata": {},
   "outputs": [],
   "source": [
    "# multi-model-2\n",
    "\n",
    "task = \"multi-model-2\"\n",
    "# name: (segment_length, allocated cores, bias)\n",
    "models = {\n",
    "    \"ssd_r34\": (16, 48, 0), \n",
    "    \"resnext50_32x4d\": (16, 48, 0),\n",
    "    \"mnasnet\": (16, 48, 0),\n",
    "    \"bert-large\": (8, 16, 0),\n",
    "}\n",
    "\n",
    "for model in models:\n",
    "    test(model)\n",
    "\n",
    "models_dump = {}\n",
    "for name, (length, core, bias) in models.items():\n",
    "    layers = [\"{}_layer{}\".format(name, i + bias + 1) for i in range(length)]\n",
    "    core_per_layer = core // length\n",
    "    models_dump[name] = [{layer: core_per_layer} for layer in layers]\n",
    "\n",
    "runfile = os.path.join(runfile_dir, \"{}.yaml\".format(task))\n",
    "yaml.dump(models_dump, open(runfile, \"w\"))"
   ]
  },
  {
   "cell_type": "code",
   "execution_count": 10,
   "metadata": {},
   "outputs": [],
   "source": [
    "# multi-model-3\n",
    "\n",
    "task = \"multi-model-3\"\n",
    "# name: (segment_length, allocated cores, bias)\n",
    "models = {\n",
    "    \"bert-large\": (8, 16, 0), \n",
    "    \"unet\": (12, 60, 0),\n",
    "    \"inception\": (24, 96, 0),\n",
    "    \"wide_resnet50_2\": (24, 48, 0),\n",
    "}\n",
    "\n",
    "for model in models:\n",
    "    test(model)\n",
    "\n",
    "models_dump = {}\n",
    "for name, (length, core, bias) in models.items():\n",
    "    layers = [\"{}_layer{}\".format(name, i + bias + 1) for i in range(length)]\n",
    "    core_per_layer = core // length\n",
    "    models_dump[name] = [{layer: core_per_layer} for layer in layers]\n",
    "\n",
    "runfile = os.path.join(runfile_dir, \"{}.yaml\".format(task))\n",
    "yaml.dump(models_dump, open(runfile, \"w\"))"
   ]
  },
  {
   "cell_type": "code",
   "execution_count": 11,
   "metadata": {},
   "outputs": [],
   "source": [
    "# pipeline\n",
    "\n",
    "task = \"pipeline\"\n",
    "# name: (segment_length, allocated cores, bias)\n",
    "models = {\n",
    "    \"wide_resnet50_2\": (64, 256, 0),\n",
    "}\n",
    "\n",
    "for model in models:\n",
    "    test(model)\n",
    "\n",
    "models_dump = {}\n",
    "for name, (length, core, bias) in models.items():\n",
    "    layers = [\"{}_layer{}\".format(name, i + bias + 1) for i in range(length)]\n",
    "    core_per_layer = core // length\n",
    "    models_dump[name] = [{layer: core_per_layer} for layer in layers]\n",
    "\n",
    "runfile = os.path.join(runfile_dir, \"{}.yaml\".format(task))\n",
    "yaml.dump(models_dump, open(runfile, \"w\"))"
   ]
  },
  {
   "cell_type": "code",
   "execution_count": null,
   "metadata": {},
   "outputs": [],
   "source": []
  }
 ],
 "metadata": {
  "interpreter": {
   "hash": "8c0becb933fa383007aaf2108a94fe203047c99382006b84ff96d5df74f4e91e"
  },
  "kernelspec": {
   "display_name": "Python 3.6.9 64-bit ('3.6.9': pyenv)",
   "language": "python",
   "name": "python3"
  },
  "language_info": {
   "codemirror_mode": {
    "name": "ipython",
    "version": 3
   },
   "file_extension": ".py",
   "mimetype": "text/x-python",
   "name": "python",
   "nbconvert_exporter": "python",
   "pygments_lexer": "ipython3",
   "version": "3.6.9"
  },
  "orig_nbformat": 4
 },
 "nbformat": 4,
 "nbformat_minor": 2
}
