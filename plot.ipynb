{
 "cells": [
  {
   "cell_type": "code",
   "execution_count": 1,
   "metadata": {},
   "outputs": [
    {
     "ename": "ModuleNotFoundError",
     "evalue": "No module named 'run_real_benchmark'",
     "output_type": "error",
     "traceback": [
      "\u001b[0;31m---------------------------------------------------------------------------\u001b[0m",
      "\u001b[0;31mModuleNotFoundError\u001b[0m                       Traceback (most recent call last)",
      "\u001b[0;32m<ipython-input-1-36fd01a7bffd>\u001b[0m in \u001b[0;36m<module>\u001b[0;34m\u001b[0m\n\u001b[1;32m      3\u001b[0m \u001b[0;32mimport\u001b[0m \u001b[0mseaborn\u001b[0m \u001b[0;32mas\u001b[0m \u001b[0msns\u001b[0m\u001b[0;34m\u001b[0m\u001b[0;34m\u001b[0m\u001b[0m\n\u001b[1;32m      4\u001b[0m \u001b[0;32mimport\u001b[0m \u001b[0mos\u001b[0m\u001b[0;34m\u001b[0m\u001b[0;34m\u001b[0m\u001b[0m\n\u001b[0;32m----> 5\u001b[0;31m \u001b[0;32mfrom\u001b[0m \u001b[0mrun_real_benchmark\u001b[0m \u001b[0;32mimport\u001b[0m \u001b[0mw_candidate\u001b[0m\u001b[0;34m\u001b[0m\u001b[0;34m\u001b[0m\u001b[0m\n\u001b[0m\u001b[1;32m      6\u001b[0m \u001b[0;34m\u001b[0m\u001b[0m\n\u001b[1;32m      7\u001b[0m \u001b[0mdf\u001b[0m \u001b[0;34m=\u001b[0m \u001b[0mpd\u001b[0m\u001b[0;34m.\u001b[0m\u001b[0mDataFrame\u001b[0m\u001b[0;34m(\u001b[0m\u001b[0;34m)\u001b[0m\u001b[0;34m\u001b[0m\u001b[0;34m\u001b[0m\u001b[0m\n",
      "\u001b[0;31mModuleNotFoundError\u001b[0m: No module named 'run_real_benchmark'"
     ]
    }
   ],
   "source": [
    "import numpy as np\n",
    "import pandas as pd\n",
    "import seaborn as sns\n",
    "import os\n",
    "from run_real_benchmark import w_candidate\n",
    "\n",
    "df = pd.DataFrame()\n",
    "w = list(w_candidate)\n",
    "\n",
    "for root, _, file_names in os.walk(\"focus-final-out\"):\n",
    "    for file_name in file_names:\n",
    "        try:\n",
    "            value = pd.read_csv(os.path.join(root, file_name), sep=\"\\t\", header=None).transpose()        \n",
    "            df = df.append(value, ignore_index=True)\n",
    "        except Exception:\n",
    "            pass\n",
    "    df = df.rename(\n",
    "        index={i: file_names[i][:-4] for i in df.index},\n",
    "        columns={i: w[i] for i in df.columns}\n",
    "    )\n",
    "\n",
    "    df = df.transpose()\n",
    "\n",
    "# plot line\n",
    "fig = sns.lineplot(data=df)\n",
    "fig_name = \"lineplot.png\"\n",
    "lineplt = fig.get_figure()\n",
    "lineplt.savefig(fig_name, dpi=400)\n"
   ]
  },
  {
   "cell_type": "code",
   "execution_count": null,
   "metadata": {},
   "outputs": [],
   "source": [
    "# Plot subfig\n",
    "import seaborn as sns\n",
    "import matplotlib.pyplot as plt\n",
    "import pandas as pd\n",
    "import numpy as np\n",
    "\n",
    "df = pd.DataFrame(np.random.rand(10, 2), columns=[\"x\", \"y\"])\n",
    "fig, axes = plt.subplots(1, 2, figsize=(20, 10), sharex=True)\n",
    "sns.lineplot(data=df, x=\"x\", y=\"y\", marker=\"o\", markers=True, dashes=True, ax=axes[0])\n",
    "plt.savefig(\"test.png\")\n",
    "plt.show()\n",
    "print(df)\n",
    "\n"
   ]
  },
  {
   "cell_type": "code",
   "execution_count": 1,
   "metadata": {},
   "outputs": [],
   "source": [
    "import matplotlib.pyplot as plt\n",
    "\n",
    "plt.style.use('science')"
   ]
  },
  {
   "cell_type": "code",
   "execution_count": null,
   "metadata": {},
   "outputs": [],
   "source": []
  }
 ],
 "metadata": {
  "interpreter": {
   "hash": "8c0becb933fa383007aaf2108a94fe203047c99382006b84ff96d5df74f4e91e"
  },
  "kernelspec": {
   "display_name": "Python 3.6.9 64-bit ('3.6.9': pyenv)",
   "language": "python",
   "name": "python3"
  },
  "language_info": {
   "codemirror_mode": {
    "name": "ipython",
    "version": 3
   },
   "file_extension": ".py",
   "mimetype": "text/x-python",
   "name": "python",
   "nbconvert_exporter": "python",
   "pygments_lexer": "ipython3",
   "version": "3.6.9"
  },
  "orig_nbformat": 4
 },
 "nbformat": 4,
 "nbformat_minor": 2
}
