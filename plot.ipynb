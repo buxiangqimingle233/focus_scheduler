{
 "cells": [
  {
   "cell_type": "code",
   "execution_count": null,
   "metadata": {},
   "outputs": [],
   "source": [
    "import numpy as np\n",
    "import pandas as pd\n",
    "import seaborn as sns\n",
    "import os\n",
    "from run_real_benchmark import w_candidate\n",
    "\n",
    "df = pd.DataFrame()\n",
    "w = list(w_candidate)\n",
    "\n",
    "for root, _, file_names in os.walk(\"focus-final-out\"):\n",
    "    for file_name in file_names:\n",
    "        try:\n",
    "            value = pd.read_csv(os.path.join(root, file_name), sep=\"\\t\", header=None).transpose()        \n",
    "            df = df.append(value, ignore_index=True)\n",
    "        except Exception:\n",
    "            pass\n",
    "    df = df.rename(\n",
    "        index={i: file_names[i][:-4] for i in df.index},\n",
    "        columns={i: w[i] for i in df.columns}\n",
    "    )\n",
    "\n",
    "    df = df.transpose()\n",
    "\n",
    "# plot line\n",
    "fig = sns.lineplot(data=df)\n",
    "fig_name = \"lineplot.png\"\n",
    "lineplt = fig.get_figure()\n",
    "lineplt.savefig(fig_name, dpi=400)\n"
   ]
  },
  {
   "cell_type": "code",
   "execution_count": null,
   "metadata": {},
   "outputs": [],
   "source": [
    "# Plot subfig\n",
    "import seaborn as sns\n",
    "import matplotlib.pyplot as plt\n",
    "import pandas as pd\n",
    "import numpy as np\n",
    "\n",
    "df = pd.DataFrame(np.random.rand(10, 2), columns=[\"x\", \"y\"])\n",
    "fig, axes = plt.subplots(1, 2, figsize=(20, 10), sharex=True)\n",
    "sns.lineplot(data=df, x=\"x\", y=\"y\", marker=\"o\", markers=True, dashes=True, ax=axes[0])\n",
    "plt.savefig(\"test.png\")\n",
    "plt.show()\n",
    "print(df)\n",
    "\n"
   ]
  }
 ],
 "metadata": {
  "language_info": {
   "name": "python"
  },
  "orig_nbformat": 4
 },
 "nbformat": 4,
 "nbformat_minor": 2
}
